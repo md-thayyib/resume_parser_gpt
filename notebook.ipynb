{
 "cells": [
  {
   "cell_type": "code",
   "execution_count": 2,
   "id": "35d23dac-b9b6-4bff-b3df-15cf5bc86c18",
   "metadata": {},
   "outputs": [],
   "source": [
    "import json\n",
    "import os\n",
    "import uuid\n",
    "\n",
    "\n",
    "from dotenv import load_dotenv\n",
    "from PyPDF2 import PdfReader\n",
    "\n",
    "import openai\n",
    "\n",
    "load_dotenv()"
   ]
  },
  {
   "cell_type": "code",
   "execution_count": 104,
   "id": "3705c81b-f564-4fde-b911-041ff463df46",
   "metadata": {},
   "outputs": [],
   "source": [
    "def resume_parse(resume_file, model, max_tokens, temperature):\n",
    "    # Read the PDF file and convert it to plain text\n",
    "    resume_file = resume_file\n",
    "    with open(resume_file, \"rb\") as f:\n",
    "        reader = PdfReader(f)\n",
    "        resume_text = \"\"\n",
    "        for page in range(len(reader.pages)):\n",
    "            resume_text += reader.pages[page].extract_text()\n",
    "\n",
    "    # Set up OpenAI API credentials\n",
    "    openai.api_key = os.getenv(\"OPENAI_API_KEY\")\n",
    "\n",
    "    # Define the GPT-3 model and parameters\n",
    "\n",
    "    prompt = (\n",
    "        f\"Parse the following resume\\n\\n{resume_text}\\n\\n like Name: ,Education: ,...in json format\",\n",
    "    )\n",
    "    \n",
    "\n",
    "    response = openai.Completion.create(\n",
    "        model=model,\n",
    "        prompt=prompt,\n",
    "        max_tokens=max_tokens,\n",
    "        n=1,\n",
    "        stop=None,\n",
    "        temperature=temperature,\n",
    "    )\n",
    "    return response, resume_text"
   ]
  },
  {
   "cell_type": "code",
   "execution_count": 117,
   "id": "0dccefa6-ac56-4bf1-b7db-01faaf8fba49",
   "metadata": {},
   "outputs": [],
   "source": [
    "resume_file = \"/Users/thayyib/Desktop/openai/resumes/Muhammed Ishan.k.pdf\"\n",
    "model = \"text-davinci-003\"\n",
    "max_tokens = 1200\n",
    "temperature = 1\n",
    "\n",
    "\n",
    "response,resume_text = resume_parse(resume_file, model, max_tokens, temperature)"
   ]
  },
  {
   "cell_type": "code",
   "execution_count": 118,
   "id": "bb12eb79-4819-42e3-90a0-91240c4473a9",
   "metadata": {},
   "outputs": [
    {
     "name": "stdout",
     "output_type": "stream",
     "text": [
      "{'name': 'Muhammed Ishan K', 'contact': {'phoneNumber': '+91 8593003845', 'location': 'Malappuram, Kerala', 'email': 'Muhammedishan1997@gmail.com', 'github': 'github.com/muhammedishank', 'linkedin': 'linkedin.com/in/muhammed-ishan-k'}, 'skills': ['React', 'JavaScript', 'Node.js', 'Express', 'MongoDB', 'REST APIs', 'HTML & CSS', 'Material-UI', 'Redux', 'GIT', 'Firebase', 'AWS', 'PostgreSQL', 'User management'], 'miniProjects': ['Netflix clone', 'React.js and TMDB api integration', 'github.com/React-Netflix.git', 'Figma', 'Postman', 'Prototype', 'MERN Stack Developer Trainee', 'Mcart E-Commerce website for purchasing smartphones', 'Social Networking site'], 'experience': 'Government Engineering College Kozhikode (3/2022 - Present)', 'education': {'degree': 'B.Tech', 'field': 'Mechanical Engineering', 'university': 'APJ Abdul Kalam Technological University', 'period': '07/2017 - 08/2021', 'place': 'Kozhikode, Kerala', 'cgpa': 8.25}, 'projects': [{'name': 'Mcart E-Commerce website for purchasing smartphones', 'period': '05/2022 - 06/2022', 'website': 'https://mcarts.today/', 'github': 'github.com/muhammedishank/M-CART-Ecommerce.git', 'details': ['- Dashboard is  with sales report and brand report', '- Admin can handle user block , unblock and delete', '- Can add product and change product details', '- Can add category and sub categories', '- Admin can manage order details and product details', '- Login and signup with OTP verification using twilio', '- User can add product to wish list and view single product', '- Category wise render of all products', '- Product can be searched and filtered', '- Payment Gateway is integrated with Razorpay', '- User can apply coupon before final billing', '- Users can download an invoice of the orders']}, {'name': 'Social Networking site', 'period': '08/2022 - Present', 'website': '-', 'github': 'github.com/User-Management-Using-ReactJs.git', 'details': ['- Login and signup with OTP verification using twilio, also signup with google account', '- The user can upload his post and share, like, comment, etc..', '- Profile page including all details', '- Live chating with friends', 'Technologies used:', '- React', '- Nodejs', '- Express', '- Redux Toolkit', '- MongoDB', '- JWT', '- Twilio', '- Google Auth', '- Multer', '- Bootsrap', '- Ajax', '- AWS', '- Razorpay', '- Node mailer', '- Twilio', '- MUI']}], 'softSkills': ['Self learner', 'Leadership', 'Quick Learner', 'Project Management']}\n"
     ]
    }
   ],
   "source": [
    "cv_dict = json.loads(response.choices[0].text)\n",
    "print(cv_dict)"
   ]
  },
  {
   "cell_type": "code",
   "execution_count": 121,
   "id": "c3c0d413-ac5a-4b51-b046-a1b3634f66f5",
   "metadata": {},
   "outputs": [
    {
     "name": "stdout",
     "output_type": "stream",
     "text": [
      "{\n",
      "  \"choices\": [\n",
      "    {\n",
      "      \"finish_reason\": \"stop\",\n",
      "      \"index\": 0,\n",
      "      \"logprobs\": null,\n",
      "      \"text\": \"\\n\\n{\\n    \\\"name\\\": \\\"Muhammed Ishan K\\\",\\n    \\\"contact\\\": {\\n        \\\"phoneNumber\\\": \\\"+91 8593003845\\\",\\n        \\\"location\\\": \\\"Malappuram, Kerala\\\",\\n        \\\"email\\\": \\\"Muhammedishan1997@gmail.com\\\",\\n        \\\"github\\\": \\\"github.com/muhammedishank\\\",\\n        \\\"linkedin\\\": \\\"linkedin.com/in/muhammed-ishan-k\\\"\\n    },\\n    \\\"skills\\\": [\\n        \\\"React\\\",\\n        \\\"JavaScript\\\",\\n        \\\"Node.js\\\",\\n        \\\"Express\\\",\\n        \\\"MongoDB\\\",\\n        \\\"REST APIs\\\",\\n        \\\"HTML & CSS\\\",\\n        \\\"Material-UI\\\",\\n        \\\"Redux\\\",\\n        \\\"GIT\\\",\\n        \\\"Firebase\\\",\\n        \\\"AWS\\\",\\n        \\\"PostgreSQL\\\",\\n        \\\"User management\\\"\\n    ],\\n    \\\"miniProjects\\\": [\\n        \\\"Netflix clone\\\",\\n        \\\"React.js and TMDB api integration\\\",\\n        \\\"github.com/React-Netflix.git\\\",\\n        \\\"Figma\\\",\\n        \\\"Postman\\\",\\n        \\\"Prototype\\\",\\n        \\\"MERN Stack Developer Trainee\\\",\\n        \\\"Mcart E-Commerce website for purchasing smartphones\\\",\\n        \\\"Social Networking site\\\"\\n    ],\\n    \\\"experience\\\": \\\"Government Engineering College Kozhikode (3/2022 - Present)\\\",\\n    \\\"education\\\": {\\n        \\\"degree\\\": \\\"B.Tech\\\",\\n        \\\"field\\\": \\\"Mechanical Engineering\\\",\\n        \\\"university\\\": \\\"APJ Abdul Kalam Technological University\\\",\\n        \\\"period\\\": \\\"07/2017 - 08/2021\\\",\\n        \\\"place\\\": \\\"Kozhikode, Kerala\\\",\\n        \\\"cgpa\\\": 8.25\\n    },\\n    \\\"projects\\\": [\\n        {\\n            \\\"name\\\": \\\"Mcart E-Commerce website for purchasing smartphones\\\",\\n            \\\"period\\\": \\\"05/2022 - 06/2022\\\",\\n            \\\"website\\\": \\\"https://mcarts.today/\\\",\\n            \\\"github\\\": \\\"github.com/muhammedishank/M-CART-Ecommerce.git\\\",\\n            \\\"details\\\": [\\n                \\\"- Dashboard is  with sales report and brand report\\\",\\n                \\\"- Admin can handle user block , unblock and delete\\\",\\n                \\\"- Can add product and change product details\\\",\\n                \\\"- Can add category and sub categories\\\",\\n                \\\"- Admin can manage order details and product details\\\",\\n                \\\"- Login and signup with OTP verification using twilio\\\",\\n                \\\"- User can add product to wish list and view single product\\\",\\n                \\\"- Category wise render of all products\\\",\\n                \\\"- Product can be searched and filtered\\\",\\n                \\\"- Payment Gateway is integrated with Razorpay\\\",\\n                \\\"- User can apply coupon before final billing\\\",\\n                \\\"- Users can download an invoice of the orders\\\"\\n            ]\\n        },\\n        {\\n            \\\"name\\\": \\\"Social Networking site\\\",\\n            \\\"period\\\": \\\"08/2022 - Present\\\",\\n            \\\"website\\\": \\\"-\\\",\\n            \\\"github\\\": \\\"github.com/User-Management-Using-ReactJs.git\\\",\\n            \\\"details\\\": [\\n                \\\"- Login and signup with OTP verification using twilio, also signup with google account\\\",\\n                \\\"- The user can upload his post and share, like, comment, etc..\\\",\\n                \\\"- Profile page including all details\\\",\\n                \\\"- Live chating with friends\\\",\\n                \\\"Technologies used:\\\",\\n                \\\"- React\\\",\\n                \\\"- Nodejs\\\",\\n                \\\"- Express\\\",\\n                \\\"- Redux Toolkit\\\",\\n                \\\"- MongoDB\\\",\\n                \\\"- JWT\\\",\\n                \\\"- Twilio\\\",\\n                \\\"- Google Auth\\\",\\n                \\\"- Multer\\\",\\n                \\\"- Bootsrap\\\",\\n                \\\"- Ajax\\\",\\n                \\\"- AWS\\\",\\n                \\\"- Razorpay\\\",\\n                \\\"- Node mailer\\\",\\n                \\\"- Twilio\\\",\\n                \\\"- MUI\\\"\\n            ]\\n        }\\n    ],\\n    \\\"softSkills\\\": [\\n        \\\"Self learner\\\",\\n        \\\"Leadership\\\",\\n        \\\"Quick Learner\\\",\\n        \\\"Project Management\\\"\\n    ]\\n}\"\n",
      "    }\n",
      "  ],\n",
      "  \"created\": 1680330709,\n",
      "  \"id\": \"cmpl-70P4952S1gHf5DRYuTRqAyFHX4NPf\",\n",
      "  \"model\": \"text-davinci-003\",\n",
      "  \"object\": \"text_completion\",\n",
      "  \"usage\": {\n",
      "    \"completion_tokens\": 920,\n",
      "    \"prompt_tokens\": 961,\n",
      "    \"total_tokens\": 1881\n",
      "  }\n",
      "}\n"
     ]
    }
   ],
   "source": [
    "print(response)"
   ]
  },
  {
   "cell_type": "code",
   "execution_count": 122,
   "id": "5a4310da-0ef1-4186-93f9-e7dcb050a0d1",
   "metadata": {},
   "outputs": [
    {
     "name": "stdout",
     "output_type": "stream",
     "text": [
      "\n",
      "\n",
      "{\n",
      "    \"name\": \"Muhammed Ishan K\",\n",
      "    \"contact\": {\n",
      "        \"phoneNumber\": \"+91 8593003845\",\n",
      "        \"location\": \"Malappuram, Kerala\",\n",
      "        \"email\": \"Muhammedishan1997@gmail.com\",\n",
      "        \"github\": \"github.com/muhammedishank\",\n",
      "        \"linkedin\": \"linkedin.com/in/muhammed-ishan-k\"\n",
      "    },\n",
      "    \"skills\": [\n",
      "        \"React\",\n",
      "        \"JavaScript\",\n",
      "        \"Node.js\",\n",
      "        \"Express\",\n",
      "        \"MongoDB\",\n",
      "        \"REST APIs\",\n",
      "        \"HTML & CSS\",\n",
      "        \"Material-UI\",\n",
      "        \"Redux\",\n",
      "        \"GIT\",\n",
      "        \"Firebase\",\n",
      "        \"AWS\",\n",
      "        \"PostgreSQL\",\n",
      "        \"User management\"\n",
      "    ],\n",
      "    \"miniProjects\": [\n",
      "        \"Netflix clone\",\n",
      "        \"React.js and TMDB api integration\",\n",
      "        \"github.com/React-Netflix.git\",\n",
      "        \"Figma\",\n",
      "        \"Postman\",\n",
      "        \"Prototype\",\n",
      "        \"MERN Stack Developer Trainee\",\n",
      "        \"Mcart E-Commerce website for purchasing smartphones\",\n",
      "        \"Social Networking site\"\n",
      "    ],\n",
      "    \"experience\": \"Government Engineering College Kozhikode (3/2022 - Present)\",\n",
      "    \"education\": {\n",
      "        \"degree\": \"B.Tech\",\n",
      "        \"field\": \"Mechanical Engineering\",\n",
      "        \"university\": \"APJ Abdul Kalam Technological University\",\n",
      "        \"period\": \"07/2017 - 08/2021\",\n",
      "        \"place\": \"Kozhikode, Kerala\",\n",
      "        \"cgpa\": 8.25\n",
      "    },\n",
      "    \"projects\": [\n",
      "        {\n",
      "            \"name\": \"Mcart E-Commerce website for purchasing smartphones\",\n",
      "            \"period\": \"05/2022 - 06/2022\",\n",
      "            \"website\": \"https://mcarts.today/\",\n",
      "            \"github\": \"github.com/muhammedishank/M-CART-Ecommerce.git\",\n",
      "            \"details\": [\n",
      "                \"- Dashboard is  with sales report and brand report\",\n",
      "                \"- Admin can handle user block , unblock and delete\",\n",
      "                \"- Can add product and change product details\",\n",
      "                \"- Can add category and sub categories\",\n",
      "                \"- Admin can manage order details and product details\",\n",
      "                \"- Login and signup with OTP verification using twilio\",\n",
      "                \"- User can add product to wish list and view single product\",\n",
      "                \"- Category wise render of all products\",\n",
      "                \"- Product can be searched and filtered\",\n",
      "                \"- Payment Gateway is integrated with Razorpay\",\n",
      "                \"- User can apply coupon before final billing\",\n",
      "                \"- Users can download an invoice of the orders\"\n",
      "            ]\n",
      "        },\n",
      "        {\n",
      "            \"name\": \"Social Networking site\",\n",
      "            \"period\": \"08/2022 - Present\",\n",
      "            \"website\": \"-\",\n",
      "            \"github\": \"github.com/User-Management-Using-ReactJs.git\",\n",
      "            \"details\": [\n",
      "                \"- Login and signup with OTP verification using twilio, also signup with google account\",\n",
      "                \"- The user can upload his post and share, like, comment, etc..\",\n",
      "                \"- Profile page including all details\",\n",
      "                \"- Live chating with friends\",\n",
      "                \"Technologies used:\",\n",
      "                \"- React\",\n",
      "                \"- Nodejs\",\n",
      "                \"- Express\",\n",
      "                \"- Redux Toolkit\",\n",
      "                \"- MongoDB\",\n",
      "                \"- JWT\",\n",
      "                \"- Twilio\",\n",
      "                \"- Google Auth\",\n",
      "                \"- Multer\",\n",
      "                \"- Bootsrap\",\n",
      "                \"- Ajax\",\n",
      "                \"- AWS\",\n",
      "                \"- Razorpay\",\n",
      "                \"- Node mailer\",\n",
      "                \"- Twilio\",\n",
      "                \"- MUI\"\n",
      "            ]\n",
      "        }\n",
      "    ],\n",
      "    \"softSkills\": [\n",
      "        \"Self learner\",\n",
      "        \"Leadership\",\n",
      "        \"Quick Learner\",\n",
      "        \"Project Management\"\n",
      "    ]\n",
      "}\n"
     ]
    }
   ],
   "source": [
    "print(response.choices[0].text)"
   ]
  },
  {
   "cell_type": "code",
   "execution_count": null,
   "id": "d1949d37-cfe7-4901-b4cd-90cc157e8dcb",
   "metadata": {},
   "outputs": [],
   "source": []
  },
  {
   "cell_type": "code",
   "execution_count": null,
   "id": "c09f396a-b439-4bc0-a9ac-e60f874fd733",
   "metadata": {},
   "outputs": [],
   "source": []
  }
 ],
 "metadata": {
  "kernelspec": {
   "display_name": "Python 3 (ipykernel)",
   "language": "python",
   "name": "python3"
  },
  "language_info": {
   "codemirror_mode": {
    "name": "ipython",
    "version": 3
   },
   "file_extension": ".py",
   "mimetype": "text/x-python",
   "name": "python",
   "nbconvert_exporter": "python",
   "pygments_lexer": "ipython3",
   "version": "3.9.12"
  }
 },
 "nbformat": 4,
 "nbformat_minor": 5
}
